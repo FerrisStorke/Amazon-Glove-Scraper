{
 "cells": [
  {
   "cell_type": "code",
   "execution_count": null,
   "id": "acbd22c9-128e-4be2-bc12-d6cb409c461a",
   "metadata": {},
   "outputs": [],
   "source": [
    "from selenium.webdriver.chrome.options import Options\n",
    "from selenium import webdriver      \n",
    "from selenium.common.exceptions import NoSuchElementException\n",
    "from selenium.webdriver.common.by import By\n",
    "import time\n",
    "from datetime import datetime\n",
    "import pandas as pd\n",
    "import numpy as np\n",
    "import urllib.request\n",
    "import os"
   ]
  },
  {
   "cell_type": "code",
   "execution_count": null,
   "id": "88b64f76-d085-407a-b84d-4ac5e5a00879",
   "metadata": {},
   "outputs": [],
   "source": [
    "def glove_scraper(url):\n",
    "    print(\"Start scraping ...\")\n",
    "    option = Options()\n",
    "    option.headless = True\n",
    "    driver = webdriver.Chrome(options = option)\n",
    "    url_list = []\n",
    "    article_counter = 0\n",
    "    \n",
    "    for i in range(1, 150):\n",
    "        driver.get(f\"https://www.amazon.de/-/en/s?k=touchscreen+handschuhe&i=clothing&s=price-desc-rank&page={i}&language=en&crid=3RF7JJ8KD8QRY&qid=1634460583&ref=sr_pg_{i}\")\n",
    "        if i % 10 == 0:\n",
    "            print(f\"Scraping page {i} ...\")\n",
    "        try:\n",
    "            articles = driver.find_elements_by_class_name(\"sg-col-inner\")\n",
    "            for article in articles:                \n",
    "                try:\n",
    "                    if article.find_element_by_css_selector(\".a-icon.a-icon-popover\"):\n",
    "                        article_url = article.find_element_by_css_selector(\".a-link-normal.s-no-outline\").get_attribute(\"href\")\n",
    "                        if not \"slredirect\" in article_url:\n",
    "                            url_list.append(article_url)\n",
    "                            image_link = article.find_element_by_class_name(\"s-image\").get_attribute(\"src\")\n",
    "                            path_name = \"/Users/ferris/Scraping/Amazon/Gloves/images\"\n",
    "                            if not os.path.isdir(path_name):\n",
    "                                os.makedirs(path_name)\n",
    "                            urllib.request.urlretrieve(str(image_link), f\"{path_name}/{article_counter}.jpg\")\n",
    "                            article_counter += 1\n",
    "                except:\n",
    "                    print(\"Article error.\")\n",
    "                    continue            \n",
    "        except:\n",
    "            print(\"No articles found.\")\n",
    "            continue\n",
    "    print(\"Scraping completed.\")\n",
    "    return url_list"
   ]
  },
  {
   "cell_type": "code",
   "execution_count": 182,
   "id": "1825553b-934b-4e3a-a96b-c2385db952d4",
   "metadata": {},
   "outputs": [
    {
     "name": "stdout",
     "output_type": "stream",
     "text": [
      "Start scraping ...\n",
      "Scraping page 10 ...\n",
      "Scraping page 20 ...\n",
      "Scraping page 30 ...\n",
      "Scraping page 40 ...\n",
      "Scraping page 50 ...\n",
      "Scraping page 60 ...\n",
      "Scraping page 70 ...\n",
      "Scraping page 80 ...\n",
      "Scraping page 90 ...\n",
      "Scraping page 100 ...\n",
      "Scraping page 110 ...\n",
      "Scraping page 120 ...\n",
      "Scraping page 130 ...\n",
      "Scraping page 140 ...\n"
     ]
    }
   ],
   "source": [
    "gloves = glove_scraper(\"https://www.amazon.de/s?k=touchscreen+handschuhe&s=price-desc-rank&crid=EBVG9MYXQ9NC&qid=1634424913&ref=sr_pg_\")"
   ]
  },
  {
   "cell_type": "code",
   "execution_count": null,
   "id": "1cc0e666-9560-45c5-bfcf-f5c67dfba609",
   "metadata": {},
   "outputs": [],
   "source": [
    "df = pd.DataFrame({\"url\": gloves})\n",
    "df[\"Beginning\"] = df[\"url\"].str[:70]\n",
    "df = df.drop_duplicates(subset = \"Beginning\")\n",
    "df = df.drop(columns = [\"Beginning\"])\n",
    "df.to_csv(\"gloves.csv\")"
   ]
  },
  {
   "cell_type": "code",
   "execution_count": 222,
   "id": "430631fa-96a2-4de7-816f-a7c8e9133106",
   "metadata": {},
   "outputs": [],
   "source": [
    "interested = []\n",
    "for file in os.listdir(\"/Users/ferris/Dropbox/jupyter notebooks/Scraping/Amazon/Gloves/images_selection\"):\n",
    "    filename = str(file).split(\".\")[0]\n",
    "    interested.append(int(filename))\n",
    "interested.sort()\n",
    "df_interested = df.loc[df.index.isin(interested)]\n",
    "df_interested.to_csv(\"gloves_interested.csv\")"
   ]
  }
 ],
 "metadata": {
  "kernelspec": {
   "display_name": "Python 3 (ipykernel)",
   "language": "python",
   "name": "python3"
  },
  "language_info": {
   "codemirror_mode": {
    "name": "ipython",
    "version": 3
   },
   "file_extension": ".py",
   "mimetype": "text/x-python",
   "name": "python",
   "nbconvert_exporter": "python",
   "pygments_lexer": "ipython3",
   "version": "3.9.6"
  }
 },
 "nbformat": 4,
 "nbformat_minor": 5
}
